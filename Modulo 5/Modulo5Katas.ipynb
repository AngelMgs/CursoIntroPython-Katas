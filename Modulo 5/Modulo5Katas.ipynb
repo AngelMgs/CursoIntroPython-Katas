{
 "cells": [
  {
   "cell_type": "markdown",
   "metadata": {},
   "source": [
    "## Ejercicio1 - Utilizar operadores aritméticos\n",
    "Operadores aritméticos en Python\n",
    "Python proporciona operadores aritméticos comunes para que puedas realizar operaciones matemáticas en tu código. Estos incluyen las cuatro operaciones principales de suma, resta, multiplicación y división.\n",
    "\n",
    "Exploremos cómo podemos crear un programa que pueda calcular la distancia entre dos planetas. Comenzaremos usando dos distancias de planetas: Tierra (149.597.870 km) y Júpiter (778.547.200 km)."
   ]
  },
  {
   "cell_type": "code",
   "execution_count": null,
   "metadata": {},
   "outputs": [],
   "source": [
    "# Calcular la distancia entre planetas\n",
    "Planeta1 = 149600000\n",
    "Planeta2 = 778600000\n",
    "\n",
    "\n",
    "distanciaKM = Planeta2 - Planeta1\n",
    "print(distanciaKM)\n",
    "\n",
    "distanciaMI = distanciaKM * 0.621\n",
    "print(distanciaMI)"
   ]
  },
  {
   "cell_type": "markdown",
   "metadata": {},
   "source": [
    "## Ejercicio 2: convierte cadenas en números y usa valores absolutos\n",
    "\n",
    "Crear una aplicación para trabajar con números y entrada de usuario\n",
    "Con frecuencia, deberás convertir los valores de cadena en números para realizar correctamente diferentes operaciones o determinar el valor absoluto de un número.\n",
    "\n",
    "Para crear nuestra aplicación, queremos leer la distancia del sol para dos planetas, y luego mostrar la distancia entre los planetas. Haremos esto usando input para leer los valores, int para convertir a entero y luego abs para convertir el resultado en su valor absoluto."
   ]
  },
  {
   "cell_type": "code",
   "execution_count": null,
   "metadata": {},
   "outputs": [],
   "source": [
    "Planeta1 = input('En KM digite la distancia desde el sol al primer planeta')\n",
    "Planeta2  = input('En KM digite la distancia desde el sol al segundo planeta ')\n",
    "\n",
    "\n",
    "Planeta1 = int(Planeta1)\n",
    "Planeta2 = int(Planeta2)\n",
    "\n",
    "\n",
    "distanciaKM = Planeta2 - Planeta1\n",
    "print(distanciaKM)\n",
    "\n",
    "\n",
    "distanciaMI = distanciaKM * 0.621\n",
    "print(abs(distanciaMI))"
   ]
  }
 ],
 "metadata": {
  "interpreter": {
   "hash": "af2e9734767a992527f8db0983e24668ef1f000bf1a39544a6cfdb7dc5072d65"
  },
  "kernelspec": {
   "display_name": "Python 3.9.0 64-bit",
   "language": "python",
   "name": "python3"
  },
  "language_info": {
   "name": "python",
   "version": "3.9.0"
  },
  "orig_nbformat": 4
 },
 "nbformat": 4,
 "nbformat_minor": 2
}
